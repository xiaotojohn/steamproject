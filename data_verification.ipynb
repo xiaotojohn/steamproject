{
 "cells": [
  {
   "cell_type": "code",
   "execution_count": 2,
   "metadata": {},
   "outputs": [
    {
     "name": "stdout",
     "output_type": "stream",
     "text": [
      "d0754faa36ea0d0d87c737908e13de1b56e857e5\n"
     ]
    }
   ],
   "source": [
    "# standard library imports\n",
    "import csv\n",
    "import datetime as dt\n",
    "import json\n",
    "import os\n",
    "import statistics\n",
    "import time\n",
    "import tqdm\n",
    "\n",
    "# third-party imports\n",
    "import numpy as np\n",
    "import pandas as pd\n",
    "import requests\n",
    "\n",
    "# environment variables\n",
    "from dotenv import load_dotenv\n",
    "load_dotenv()\n",
    "ANYDEALS_API_KEY = os.getenv(\"ANYDEAL_KEY\")\n",
    "# customisations - ensure tables show all columns\n",
    "# pd.set_option(\"max_columns\", 100)\n",
    "print(ANYDEALS_API_KEY)"
   ]
  },
  {
   "cell_type": "code",
   "execution_count": 12,
   "metadata": {},
   "outputs": [],
   "source": [
    "# merge all the game data into one dataframe\n",
    "temp_df = pd.DataFrame()\n",
    "for i in range(0, 3000,10):\n",
    "    if i == 0:\n",
    "        temp_df = pd.read_csv(f\"textfiles/game_info/last_successful_batch_{i}_game_info_anydeal.csv\", index_col=0)\n",
    "    else:\n",
    "        temp_df = pd.concat([temp_df, pd.read_csv(f\"textfiles/game_info/last_successful_batch_{i}_game_info_anydeal.csv\", index_col=0)])\n",
    "temp_df.to_csv('anydeal.csv')"
   ]
  },
  {
   "cell_type": "code",
   "execution_count": 13,
   "metadata": {},
   "outputs": [],
   "source": [
    "# merge all the game prices into one dataframe\n",
    "temp_df = pd.DataFrame()\n",
    "for i in range(0, 3000,10):\n",
    "    if i == 0:\n",
    "        temp_df = pd.read_csv(f\"textfiles/price_history/last_successful_batch_{i}_price_history.csv\", index_col=0)\n",
    "    else:\n",
    "        temp_df = pd.concat([temp_df, pd.read_csv(f\"textfiles/price_history/last_successful_batch_{i}_price_history.csv\", index_col=0)])\n",
    "\n",
    "temp_df.to_csv('anydeal_prices.csv')"
   ]
  },
  {
   "cell_type": "code",
   "execution_count": 14,
   "metadata": {},
   "outputs": [],
   "source": [
    "df_game_info = pd.read_csv('anydeal.csv')\n",
    "df_price_history = pd.read_csv('anydeal_prices.csv')\n",
    "df_price_history.rename(columns={'appid':'id'}, inplace=True)\n",
    "\n",
    "# merge the two dataframes\n",
    "\n",
    "df = pd.merge(df_game_info, df_price_history, on='id', how='inner')"
   ]
  },
  {
   "cell_type": "code",
   "execution_count": 19,
   "metadata": {},
   "outputs": [],
   "source": [
    "df_without_history = df[df['price_history'] == '[]']\n",
    "df_without_history.to_csv('anydeal_without_history.csv')"
   ]
  }
 ],
 "metadata": {
  "kernelspec": {
   "display_name": "509",
   "language": "python",
   "name": "python3"
  },
  "language_info": {
   "codemirror_mode": {
    "name": "ipython",
    "version": 3
   },
   "file_extension": ".py",
   "mimetype": "text/x-python",
   "name": "python",
   "nbconvert_exporter": "python",
   "pygments_lexer": "ipython3",
   "version": "3.10.0"
  }
 },
 "nbformat": 4,
 "nbformat_minor": 2
}
