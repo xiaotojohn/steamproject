{
 "cells": [
  {
   "cell_type": "code",
   "execution_count": 131,
   "metadata": {},
   "outputs": [
    {
     "name": "stdout",
     "output_type": "stream",
     "text": [
      "d0754faa36ea0d0d87c737908e13de1b56e857e5\n"
     ]
    }
   ],
   "source": [
    "# standard library imports\n",
    "import csv\n",
    "import datetime as dt\n",
    "import json\n",
    "import os\n",
    "import statistics\n",
    "import time\n",
    "import tqdm\n",
    "\n",
    "# third-party imports\n",
    "import numpy as np\n",
    "import pandas as pd\n",
    "import requests\n",
    "\n",
    "# environment variables\n",
    "from dotenv import load_dotenv\n",
    "load_dotenv()\n",
    "ANYDEALS_API_KEY = os.getenv(\"ANYDEAL_KEY\")\n",
    "# customisations - ensure tables show all columns\n",
    "# pd.set_option(\"max_columns\", 100)\n",
    "print(ANYDEALS_API_KEY)"
   ]
  },
  {
   "cell_type": "code",
   "execution_count": 45,
   "metadata": {},
   "outputs": [],
   "source": [
    "def get_request(url, parameters=None):\n",
    "    \"\"\"Return json-formatted response of a get request using optional parameters.\n",
    "    \n",
    "    Parameters\n",
    "    ----------\n",
    "    url : string\n",
    "    parameters : {'parameter': 'value'}\n",
    "        parameters to pass as part of get request\n",
    "    \n",
    "    Returns\n",
    "    -------\n",
    "    json_data\n",
    "        json-formatted response (dict-like)\n",
    "    \"\"\"\n",
    "    try:\n",
    "        response = requests.get(url=url, params=parameters)\n",
    "    except SSLError as s:\n",
    "        print('SSL Error:', s)\n",
    "        \n",
    "        for i in range(5, 0, -1):\n",
    "            print('\\rWaiting... ({})'.format(i), end='')\n",
    "            time.sleep(1)\n",
    "        print('\\rRetrying.' + ' '*10)\n",
    "        \n",
    "        # recusively try again\n",
    "        return get_request(url, parameters)\n",
    "    \n",
    "    if response:\n",
    "        return response.json()\n",
    "    else:\n",
    "        # response is none usually means too many requests. Wait and try again \n",
    "        print('No response, waiting 10 seconds...')\n",
    "        time.sleep(10)\n",
    "        print('Retrying.')\n",
    "        return get_request(url, parameters)"
   ]
  },
  {
   "cell_type": "code",
   "execution_count": 47,
   "metadata": {},
   "outputs": [
    {
     "data": {
      "text/html": [
       "<div>\n",
       "<style scoped>\n",
       "    .dataframe tbody tr th:only-of-type {\n",
       "        vertical-align: middle;\n",
       "    }\n",
       "\n",
       "    .dataframe tbody tr th {\n",
       "        vertical-align: top;\n",
       "    }\n",
       "\n",
       "    .dataframe thead th {\n",
       "        text-align: right;\n",
       "    }\n",
       "</style>\n",
       "<table border=\"1\" class=\"dataframe\">\n",
       "  <thead>\n",
       "    <tr style=\"text-align: right;\">\n",
       "      <th></th>\n",
       "      <th>appid</th>\n",
       "      <th>name</th>\n",
       "    </tr>\n",
       "  </thead>\n",
       "  <tbody>\n",
       "    <tr>\n",
       "      <th>0</th>\n",
       "      <td>570</td>\n",
       "      <td>Dota 2</td>\n",
       "    </tr>\n",
       "    <tr>\n",
       "      <th>1</th>\n",
       "      <td>730</td>\n",
       "      <td>Counter-Strike: Global Offensive</td>\n",
       "    </tr>\n",
       "    <tr>\n",
       "      <th>2</th>\n",
       "      <td>578080</td>\n",
       "      <td>PUBG: BATTLEGROUNDS</td>\n",
       "    </tr>\n",
       "    <tr>\n",
       "      <th>3</th>\n",
       "      <td>1623730</td>\n",
       "      <td>Palworld</td>\n",
       "    </tr>\n",
       "    <tr>\n",
       "      <th>4</th>\n",
       "      <td>440</td>\n",
       "      <td>Team Fortress 2</td>\n",
       "    </tr>\n",
       "  </tbody>\n",
       "</table>\n",
       "</div>"
      ],
      "text/plain": [
       "     appid                              name\n",
       "0      570                            Dota 2\n",
       "1      730  Counter-Strike: Global Offensive\n",
       "2   578080               PUBG: BATTLEGROUNDS\n",
       "3  1623730                          Palworld\n",
       "4      440                   Team Fortress 2"
      ]
     },
     "execution_count": 47,
     "metadata": {},
     "output_type": "execute_result"
    }
   ],
   "source": [
    "url = \"https://steamspy.com/api.php\"\n",
    "\n",
    "\n",
    "# request 'all' from steam spy and parse into dataframe\n",
    "json_data = {}\n",
    "\n",
    "# get the first 3 pages of data, 3000 games in total\n",
    "# steamspy lists 1000 games per page, sorted by popularity\n",
    "for i in range(0,3):\n",
    "    parameters = {'request': 'all', 'page': i}\n",
    "    json_data.update(get_request(url, parameters))\n",
    "    time.sleep(60) # sleep for 60 seconds to avoid rate limiting\n",
    "steam_spy_all = pd.DataFrame.from_dict(json_data, orient='index')\n",
    "steam_spy_all.to_csv('steam_spy_all_3000.csv')\n",
    "# generate sorted app_list from steamspy data\n",
    "app_list = steam_spy_all[['appid', 'name']].reset_index(drop=True)\n",
    "\n",
    "# export disabled to keep consistency across download sessions\n",
    "app_list.to_csv('app_list.csv', index=False)\n",
    "\n",
    "# instead read from stored csv\n",
    "app_list = pd.read_csv('app_list.csv')\n",
    "\n",
    "# display first few rows\n",
    "app_list.head()"
   ]
  },
  {
   "cell_type": "code",
   "execution_count": 13,
   "metadata": {},
   "outputs": [],
   "source": [
    "# get data for each appid from isthereanydeal.com\n",
    "def get_shop_data():\n",
    "    \"\"\"Return json-formatted response of a get request using optional parameters.\n",
    "    \n",
    "    Parameters\n",
    "    ----------\n",
    "    appid : int\n",
    "        appid of game to get data for\n",
    "    \n",
    "    Returns\n",
    "    -------\n",
    "    json_data\n",
    "        json-formatted response (dict-like)\n",
    "    \"\"\"\n",
    "    url = f\"https://api.isthereanydeal.com/service/shops/v1\"\n",
    "    parameters = {\"key\": ANYDEALS_API_KEY}\n",
    "    \n",
    "    response = requests.get(url=url, params=parameters)\n",
    "    return response.json()"
   ]
  },
  {
   "cell_type": "code",
   "execution_count": 51,
   "metadata": {},
   "outputs": [],
   "source": [
    "shop_info = pd.DataFrame.from_dict(get_shop_data())"
   ]
  },
  {
   "cell_type": "code",
   "execution_count": 53,
   "metadata": {},
   "outputs": [],
   "source": [
    "shop_info.to_csv('shop_info.csv', index=False)"
   ]
  },
  {
   "cell_type": "code",
   "execution_count": 176,
   "metadata": {},
   "outputs": [],
   "source": [
    "def get_anydeal_id(appid):\n",
    "    \"\"\"\n",
    "    Match the appid to the corresponding anydeal id, if it exists.\n",
    "    return the mapping pair in a json.\n",
    "    \"\"\"\n",
    "    url = f\"https://api.isthereanydeal.com/games/lookup/v1\"\n",
    "    parameters = {'key': ANYDEALS_API_KEY,'appid': appid}\n",
    "    # print(parameters)\n",
    "    time.sleep(0.4) # sleep for 0.4 seconds before any request to avoid rate limiting\n",
    "    response = requests.get(url=url, params=parameters)\n",
    "    # print(response.json())\n",
    "    return response.json()['game']['id']\n",
    "\n",
    "def get_price_history(appid):\n",
    "    \"\"\"\n",
    "    Get the price history of a game from a specific shop.\n",
    "    \"\"\"\n",
    "    url = f\"https://api.isthereanydeal.com/games/history/v2\"\n",
    "    parameters = {\"key\": ANYDEALS_API_KEY, 'id':appid, 'country':'US','since':'2000-01-01T00:00:00+01:00','shops':'61'}\n",
    "    time.sleep(0.4)\n",
    "    response = requests.get(url=url, params=parameters)\n",
    "    return {'appid': appid, 'price_history': response.json()}\n",
    "\n",
    "def get_anydeal_game_info(id):\n",
    "    \"\"\"\n",
    "    Get the game info from anydeal using the steam id.\n",
    "    \"\"\"\n",
    "    url = f\"https://api.isthereanydeal.com/games/info/v2\"\n",
    "    id = get_anydeal_id(id)\n",
    "    parameters = {'key': ANYDEALS_API_KEY,'id':id}\n",
    "    time.sleep(0.4)\n",
    "    response_info = requests.get(url=url, params=parameters)\n",
    "\n",
    "    response_history = get_price_history(id)\n",
    "\n",
    "    return [response_info.json(), response_history]\n",
    "\n",
    "def get_batch_info_handler(app_list):\n",
    "    \"\"\"\n",
    "    Create a master table of all games in the app_list, with their corresponding anydeal id.\n",
    "    \"\"\"\n",
    "    master_json_list = []\n",
    "    master_json_list_history = []\n",
    "    for appid in app_list['appid']:\n",
    "        print('now processing appid:', appid)\n",
    "        master_json_list.append(get_anydeal_game_info(appid)[0])\n",
    "        master_json_list_history.append(get_anydeal_game_info(appid)[1])\n",
    "    return [master_json_list, master_json_list_history]\n",
    "\n",
    "def create_master_game_info(batch_size, app_list,start, end, handler, filename):\n",
    "    \"\"\"\n",
    "    Create a master table of all games in the app_list.\n",
    "    As the API may fail at any point, we will write the table to local storage after each batch.\n",
    "    Each batch is converted to a list of jsons. We write the list into a txt file.\n",
    "    Any time a batch is processed, we will write it to local file.\n",
    "    Any time a batch fails, we will read the local file and continue from the last batch.\n",
    "\n",
    "\n",
    "    batch_size: the number of games to process at once\n",
    "    app_list: the list of games to process, in the form of a pandas dataframe\n",
    "    start: the index to start processing from\n",
    "    end: the index to end processing at\n",
    "    handler: the function to process the batch\n",
    "    filename: the name of the file to write to\n",
    "    \"\"\"\n",
    "\n",
    "    for i in tqdm.tqdm(range(start, end, batch_size)):\n",
    "        try:\n",
    "            # handle the game info\n",
    "            print(f\"Processing batch {i} to {i+batch_size}\")\n",
    "            batch = app_list.iloc[i:i+batch_size]\n",
    "            batch_json = handler(batch)[0]\n",
    "            batch_df = pd.DataFrame.from_dict(batch_json)\n",
    "            if i == 0:\n",
    "                # batch_df.to_csv(filename, index=False)\n",
    "                batch_df.to_csv(f'textfiles/game_info/last_successful_batch_{i}_'+filename, index=False)\n",
    "            else:\n",
    "                # batch_df.to_csv(filename, mode='a', header= False,index=False)\n",
    "                batch_df.to_csv(f'textfiles/game_info/last_successful_batch_{i}_'+filename, index=False)\n",
    "            print(f\"Batch {i} to {i+batch_size} processed successfully.\")\n",
    "            # print(\"hello\")\n",
    "            # handle the price history\n",
    "            print(f\"PRICE HISTORY: Processing batch {i} to {i+batch_size}\")\n",
    "            batch_json_history = handler(batch)[1]\n",
    "            batch_df_history = pd.DataFrame.from_dict(batch_json_history)\n",
    "            if i == 0:\n",
    "                # batch_df_history.to_csv('price_history.csv', index=False)\n",
    "                batch_df_history.to_csv(f'textfiles/price_history/last_successful_batch_{i}_price_history.csv', index=False)\n",
    "            else:\n",
    "                # batch_df_history.to_csv('price_history.csv', mode='a',header=False, index=False)\n",
    "                batch_df_history.to_csv(f'textfiles/price_history/last_successful_batch_{i}_price_history.csv', index=False)\n",
    "\n",
    "            \n",
    "        except Exception as e:\n",
    "            print(f\"Batch {i} to {i+batch_size} failed.\")\n",
    "            print(e)\n"
   ]
  },
  {
   "cell_type": "code",
   "execution_count": 183,
   "metadata": {},
   "outputs": [
    {
     "name": "stderr",
     "output_type": "stream",
     "text": [
      "  0%|          | 0/30 [00:00<?, ?it/s]"
     ]
    },
    {
     "name": "stdout",
     "output_type": "stream",
     "text": [
      "Processing batch 2700 to 2710\n",
      "Batch 2700 to 2710 processed successfully.\n",
      "PRICE HISTORY: Processing batch 2700 to 2710\n"
     ]
    },
    {
     "name": "stderr",
     "output_type": "stream",
     "text": [
      "  3%|▎         | 1/30 [01:28<42:54, 88.79s/it]"
     ]
    },
    {
     "name": "stdout",
     "output_type": "stream",
     "text": [
      "Processing batch 2710 to 2720\n",
      "Batch 2710 to 2720 processed successfully.\n",
      "PRICE HISTORY: Processing batch 2710 to 2720\n"
     ]
    },
    {
     "name": "stderr",
     "output_type": "stream",
     "text": [
      "  7%|▋         | 2/30 [02:52<40:03, 85.83s/it]"
     ]
    },
    {
     "name": "stdout",
     "output_type": "stream",
     "text": [
      "Processing batch 2720 to 2730\n",
      "Batch 2720 to 2730 processed successfully.\n",
      "PRICE HISTORY: Processing batch 2720 to 2730\n"
     ]
    },
    {
     "name": "stderr",
     "output_type": "stream",
     "text": [
      " 10%|█         | 3/30 [04:15<37:59, 84.43s/it]"
     ]
    },
    {
     "name": "stdout",
     "output_type": "stream",
     "text": [
      "Processing batch 2730 to 2740\n",
      "Batch 2730 to 2740 processed successfully.\n",
      "PRICE HISTORY: Processing batch 2730 to 2740\n"
     ]
    },
    {
     "name": "stderr",
     "output_type": "stream",
     "text": [
      " 13%|█▎        | 4/30 [16:59<2:32:56, 352.92s/it]"
     ]
    },
    {
     "name": "stdout",
     "output_type": "stream",
     "text": [
      "Processing batch 2740 to 2750\n",
      "Batch 2740 to 2750 processed successfully.\n",
      "PRICE HISTORY: Processing batch 2740 to 2750\n"
     ]
    },
    {
     "name": "stderr",
     "output_type": "stream",
     "text": [
      " 17%|█▋        | 5/30 [18:23<1:46:38, 255.96s/it]"
     ]
    },
    {
     "name": "stdout",
     "output_type": "stream",
     "text": [
      "Processing batch 2750 to 2760\n",
      "Batch 2750 to 2760 processed successfully.\n",
      "PRICE HISTORY: Processing batch 2750 to 2760\n"
     ]
    },
    {
     "name": "stderr",
     "output_type": "stream",
     "text": [
      " 20%|██        | 6/30 [19:46<1:18:46, 196.93s/it]"
     ]
    },
    {
     "name": "stdout",
     "output_type": "stream",
     "text": [
      "Processing batch 2760 to 2770\n",
      "Batch 2760 to 2770 processed successfully.\n",
      "PRICE HISTORY: Processing batch 2760 to 2770\n"
     ]
    },
    {
     "name": "stderr",
     "output_type": "stream",
     "text": [
      " 23%|██▎       | 7/30 [21:10<1:01:25, 160.26s/it]"
     ]
    },
    {
     "name": "stdout",
     "output_type": "stream",
     "text": [
      "Processing batch 2770 to 2780\n",
      "Batch 2770 to 2780 processed successfully.\n",
      "PRICE HISTORY: Processing batch 2770 to 2780\n"
     ]
    },
    {
     "name": "stderr",
     "output_type": "stream",
     "text": [
      " 27%|██▋       | 8/30 [22:34<49:47, 135.80s/it]  "
     ]
    },
    {
     "name": "stdout",
     "output_type": "stream",
     "text": [
      "Processing batch 2780 to 2790\n",
      "Batch 2780 to 2790 processed successfully.\n",
      "PRICE HISTORY: Processing batch 2780 to 2790\n"
     ]
    },
    {
     "name": "stderr",
     "output_type": "stream",
     "text": [
      " 30%|███       | 9/30 [23:58<41:51, 119.59s/it]"
     ]
    },
    {
     "name": "stdout",
     "output_type": "stream",
     "text": [
      "Processing batch 2790 to 2800\n",
      "Batch 2790 to 2800 processed successfully.\n",
      "PRICE HISTORY: Processing batch 2790 to 2800\n"
     ]
    },
    {
     "name": "stderr",
     "output_type": "stream",
     "text": [
      " 33%|███▎      | 10/30 [25:24<36:24, 109.21s/it]"
     ]
    },
    {
     "name": "stdout",
     "output_type": "stream",
     "text": [
      "Processing batch 2800 to 2810\n",
      "Batch 2800 to 2810 processed successfully.\n",
      "PRICE HISTORY: Processing batch 2800 to 2810\n"
     ]
    },
    {
     "name": "stderr",
     "output_type": "stream",
     "text": [
      " 37%|███▋      | 11/30 [26:49<32:13, 101.77s/it]"
     ]
    },
    {
     "name": "stdout",
     "output_type": "stream",
     "text": [
      "Processing batch 2810 to 2820\n",
      "Batch 2810 to 2820 processed successfully.\n",
      "PRICE HISTORY: Processing batch 2810 to 2820\n"
     ]
    },
    {
     "name": "stderr",
     "output_type": "stream",
     "text": [
      " 40%|████      | 12/30 [28:15<29:06, 97.02s/it] "
     ]
    },
    {
     "name": "stdout",
     "output_type": "stream",
     "text": [
      "Processing batch 2820 to 2830\n",
      "Batch 2820 to 2830 processed successfully.\n",
      "PRICE HISTORY: Processing batch 2820 to 2830\n"
     ]
    },
    {
     "name": "stderr",
     "output_type": "stream",
     "text": [
      " 43%|████▎     | 13/30 [29:40<26:29, 93.48s/it]"
     ]
    },
    {
     "name": "stdout",
     "output_type": "stream",
     "text": [
      "Processing batch 2830 to 2840\n",
      "Batch 2830 to 2840 processed successfully.\n",
      "PRICE HISTORY: Processing batch 2830 to 2840\n"
     ]
    },
    {
     "name": "stderr",
     "output_type": "stream",
     "text": [
      " 47%|████▋     | 14/30 [31:02<23:56, 89.81s/it]"
     ]
    },
    {
     "name": "stdout",
     "output_type": "stream",
     "text": [
      "Processing batch 2840 to 2850\n",
      "Batch 2840 to 2850 processed successfully.\n",
      "PRICE HISTORY: Processing batch 2840 to 2850\n"
     ]
    },
    {
     "name": "stderr",
     "output_type": "stream",
     "text": [
      " 50%|█████     | 15/30 [32:26<22:04, 88.28s/it]"
     ]
    },
    {
     "name": "stdout",
     "output_type": "stream",
     "text": [
      "Processing batch 2850 to 2860\n",
      "Batch 2850 to 2860 processed successfully.\n",
      "PRICE HISTORY: Processing batch 2850 to 2860\n"
     ]
    },
    {
     "name": "stderr",
     "output_type": "stream",
     "text": [
      " 53%|█████▎    | 16/30 [33:53<20:28, 87.74s/it]"
     ]
    },
    {
     "name": "stdout",
     "output_type": "stream",
     "text": [
      "Processing batch 2860 to 2870\n",
      "Batch 2860 to 2870 processed successfully.\n",
      "PRICE HISTORY: Processing batch 2860 to 2870\n"
     ]
    },
    {
     "name": "stderr",
     "output_type": "stream",
     "text": [
      " 57%|█████▋    | 17/30 [35:15<18:40, 86.19s/it]"
     ]
    },
    {
     "name": "stdout",
     "output_type": "stream",
     "text": [
      "Processing batch 2870 to 2880\n",
      "Batch 2870 to 2880 processed successfully.\n",
      "PRICE HISTORY: Processing batch 2870 to 2880\n"
     ]
    },
    {
     "name": "stderr",
     "output_type": "stream",
     "text": [
      " 60%|██████    | 18/30 [36:36<16:54, 84.54s/it]"
     ]
    },
    {
     "name": "stdout",
     "output_type": "stream",
     "text": [
      "Processing batch 2880 to 2890\n",
      "Batch 2880 to 2890 processed successfully.\n",
      "PRICE HISTORY: Processing batch 2880 to 2890\n"
     ]
    },
    {
     "name": "stderr",
     "output_type": "stream",
     "text": [
      " 63%|██████▎   | 19/30 [38:01<15:30, 84.55s/it]"
     ]
    },
    {
     "name": "stdout",
     "output_type": "stream",
     "text": [
      "Processing batch 2890 to 2900\n",
      "Batch 2890 to 2900 processed successfully.\n",
      "PRICE HISTORY: Processing batch 2890 to 2900\n"
     ]
    },
    {
     "name": "stderr",
     "output_type": "stream",
     "text": [
      " 67%|██████▋   | 20/30 [39:24<14:03, 84.33s/it]"
     ]
    },
    {
     "name": "stdout",
     "output_type": "stream",
     "text": [
      "Processing batch 2900 to 2910\n",
      "Batch 2900 to 2910 processed successfully.\n",
      "PRICE HISTORY: Processing batch 2900 to 2910\n"
     ]
    },
    {
     "name": "stderr",
     "output_type": "stream",
     "text": [
      " 70%|███████   | 21/30 [40:46<12:32, 83.60s/it]"
     ]
    },
    {
     "name": "stdout",
     "output_type": "stream",
     "text": [
      "Processing batch 2910 to 2920\n",
      "Batch 2910 to 2920 processed successfully.\n",
      "PRICE HISTORY: Processing batch 2910 to 2920\n"
     ]
    },
    {
     "name": "stderr",
     "output_type": "stream",
     "text": [
      " 73%|███████▎  | 22/30 [42:15<11:19, 84.98s/it]"
     ]
    },
    {
     "name": "stdout",
     "output_type": "stream",
     "text": [
      "Processing batch 2920 to 2930\n",
      "Batch 2920 to 2930 processed successfully.\n",
      "PRICE HISTORY: Processing batch 2920 to 2930\n"
     ]
    },
    {
     "name": "stderr",
     "output_type": "stream",
     "text": [
      " 77%|███████▋  | 23/30 [43:34<09:42, 83.28s/it]"
     ]
    },
    {
     "name": "stdout",
     "output_type": "stream",
     "text": [
      "Processing batch 2930 to 2940\n",
      "Batch 2930 to 2940 processed successfully.\n",
      "PRICE HISTORY: Processing batch 2930 to 2940\n"
     ]
    },
    {
     "name": "stderr",
     "output_type": "stream",
     "text": [
      " 80%|████████  | 24/30 [44:57<08:19, 83.31s/it]"
     ]
    },
    {
     "name": "stdout",
     "output_type": "stream",
     "text": [
      "Processing batch 2940 to 2950\n",
      "Batch 2940 to 2950 processed successfully.\n",
      "PRICE HISTORY: Processing batch 2940 to 2950\n"
     ]
    },
    {
     "name": "stderr",
     "output_type": "stream",
     "text": [
      " 83%|████████▎ | 25/30 [46:17<06:51, 82.35s/it]"
     ]
    },
    {
     "name": "stdout",
     "output_type": "stream",
     "text": [
      "Processing batch 2950 to 2960\n",
      "Batch 2950 to 2960 processed successfully.\n",
      "PRICE HISTORY: Processing batch 2950 to 2960\n"
     ]
    },
    {
     "name": "stderr",
     "output_type": "stream",
     "text": [
      " 87%|████████▋ | 26/30 [47:38<05:26, 81.71s/it]"
     ]
    },
    {
     "name": "stdout",
     "output_type": "stream",
     "text": [
      "Processing batch 2960 to 2970\n",
      "Batch 2960 to 2970 processed successfully.\n",
      "PRICE HISTORY: Processing batch 2960 to 2970\n"
     ]
    },
    {
     "name": "stderr",
     "output_type": "stream",
     "text": [
      " 90%|█████████ | 27/30 [48:58<04:03, 81.22s/it]"
     ]
    },
    {
     "name": "stdout",
     "output_type": "stream",
     "text": [
      "Processing batch 2970 to 2980\n",
      "Batch 2970 to 2980 processed successfully.\n",
      "PRICE HISTORY: Processing batch 2970 to 2980\n"
     ]
    },
    {
     "name": "stderr",
     "output_type": "stream",
     "text": [
      " 93%|█████████▎| 28/30 [50:17<02:41, 80.70s/it]"
     ]
    },
    {
     "name": "stdout",
     "output_type": "stream",
     "text": [
      "Processing batch 2980 to 2990\n",
      "Batch 2980 to 2990 processed successfully.\n",
      "PRICE HISTORY: Processing batch 2980 to 2990\n"
     ]
    },
    {
     "name": "stderr",
     "output_type": "stream",
     "text": [
      " 97%|█████████▋| 29/30 [51:38<01:20, 80.89s/it]"
     ]
    },
    {
     "name": "stdout",
     "output_type": "stream",
     "text": [
      "Processing batch 2990 to 3000\n",
      "Batch 2990 to 3000 processed successfully.\n",
      "PRICE HISTORY: Processing batch 2990 to 3000\n"
     ]
    },
    {
     "name": "stderr",
     "output_type": "stream",
     "text": [
      "100%|██████████| 30/30 [52:52<00:00, 105.76s/it]\n"
     ]
    }
   ],
   "source": [
    "app_all = pd.read_csv('app_list.csv')\n",
    "create_master_game_info(10, app_all, 2700, len(app_all), get_batch_info_handler, 'game_info_anydeal.csv')"
   ]
  },
  {
   "cell_type": "code",
   "execution_count": 184,
   "metadata": {},
   "outputs": [
    {
     "data": {
      "text/html": [
       "<div>\n",
       "<style scoped>\n",
       "    .dataframe tbody tr th:only-of-type {\n",
       "        vertical-align: middle;\n",
       "    }\n",
       "\n",
       "    .dataframe tbody tr th {\n",
       "        vertical-align: top;\n",
       "    }\n",
       "\n",
       "    .dataframe thead th {\n",
       "        text-align: right;\n",
       "    }\n",
       "</style>\n",
       "<table border=\"1\" class=\"dataframe\">\n",
       "  <thead>\n",
       "    <tr style=\"text-align: right;\">\n",
       "      <th></th>\n",
       "      <th>appid</th>\n",
       "      <th>price_history</th>\n",
       "    </tr>\n",
       "  </thead>\n",
       "  <tbody>\n",
       "    <tr>\n",
       "      <th>0</th>\n",
       "      <td>018d937f-19a5-7057-bb6d-314d586e6dbc</td>\n",
       "      <td>[{'timestamp': '2024-02-11T01:47:46+01:00', 's...</td>\n",
       "    </tr>\n",
       "    <tr>\n",
       "      <th>1</th>\n",
       "      <td>018d937f-7851-7004-b780-3f657a301f9a</td>\n",
       "      <td>[{'timestamp': '2024-02-11T01:47:46+01:00', 's...</td>\n",
       "    </tr>\n",
       "    <tr>\n",
       "      <th>2</th>\n",
       "      <td>018d937f-57ce-723f-b7e7-7c7b5df93471</td>\n",
       "      <td>[{'timestamp': '2024-02-11T03:51:23+01:00', 's...</td>\n",
       "    </tr>\n",
       "    <tr>\n",
       "      <th>3</th>\n",
       "      <td>018d937f-50c1-7086-807c-e020c98c72b2</td>\n",
       "      <td>[{'timestamp': '2024-07-18T19:16:16+02:00', 's...</td>\n",
       "    </tr>\n",
       "    <tr>\n",
       "      <th>4</th>\n",
       "      <td>018d937e-fde4-72ff-a7af-45e4955a8dd6</td>\n",
       "      <td>[{'timestamp': '2024-02-11T01:47:46+01:00', 's...</td>\n",
       "    </tr>\n",
       "    <tr>\n",
       "      <th>...</th>\n",
       "      <td>...</td>\n",
       "      <td>...</td>\n",
       "    </tr>\n",
       "    <tr>\n",
       "      <th>3034</th>\n",
       "      <td>018d937e-f973-71db-988b-4b9d2c183d55</td>\n",
       "      <td>[{'timestamp': '2024-07-25T19:16:13+02:00', 's...</td>\n",
       "    </tr>\n",
       "    <tr>\n",
       "      <th>3035</th>\n",
       "      <td>018d96f1-a1a9-70ec-9c8a-06ef9eb86465</td>\n",
       "      <td>[{'timestamp': '2024-02-11T08:58:04+01:00', 's...</td>\n",
       "    </tr>\n",
       "    <tr>\n",
       "      <th>3036</th>\n",
       "      <td>018d979a-4ad7-71e4-aecc-eb83bede66c6</td>\n",
       "      <td>[{'timestamp': '2024-02-11T02:18:13+01:00', 's...</td>\n",
       "    </tr>\n",
       "    <tr>\n",
       "      <th>3037</th>\n",
       "      <td>018d937f-33c1-70d1-b6c0-2e871940149a</td>\n",
       "      <td>[{'timestamp': '2024-07-22T19:16:52+02:00', 's...</td>\n",
       "    </tr>\n",
       "    <tr>\n",
       "      <th>3038</th>\n",
       "      <td>018d937f-0e8d-7115-aaf8-578876bc1c80</td>\n",
       "      <td>[{'timestamp': '2024-07-29T19:17:59+02:00', 's...</td>\n",
       "    </tr>\n",
       "  </tbody>\n",
       "</table>\n",
       "<p>3039 rows × 2 columns</p>\n",
       "</div>"
      ],
      "text/plain": [
       "                                     appid  \\\n",
       "0     018d937f-19a5-7057-bb6d-314d586e6dbc   \n",
       "1     018d937f-7851-7004-b780-3f657a301f9a   \n",
       "2     018d937f-57ce-723f-b7e7-7c7b5df93471   \n",
       "3     018d937f-50c1-7086-807c-e020c98c72b2   \n",
       "4     018d937e-fde4-72ff-a7af-45e4955a8dd6   \n",
       "...                                    ...   \n",
       "3034  018d937e-f973-71db-988b-4b9d2c183d55   \n",
       "3035  018d96f1-a1a9-70ec-9c8a-06ef9eb86465   \n",
       "3036  018d979a-4ad7-71e4-aecc-eb83bede66c6   \n",
       "3037  018d937f-33c1-70d1-b6c0-2e871940149a   \n",
       "3038  018d937f-0e8d-7115-aaf8-578876bc1c80   \n",
       "\n",
       "                                          price_history  \n",
       "0     [{'timestamp': '2024-02-11T01:47:46+01:00', 's...  \n",
       "1     [{'timestamp': '2024-02-11T01:47:46+01:00', 's...  \n",
       "2     [{'timestamp': '2024-02-11T03:51:23+01:00', 's...  \n",
       "3     [{'timestamp': '2024-07-18T19:16:16+02:00', 's...  \n",
       "4     [{'timestamp': '2024-02-11T01:47:46+01:00', 's...  \n",
       "...                                                 ...  \n",
       "3034  [{'timestamp': '2024-07-25T19:16:13+02:00', 's...  \n",
       "3035  [{'timestamp': '2024-02-11T08:58:04+01:00', 's...  \n",
       "3036  [{'timestamp': '2024-02-11T02:18:13+01:00', 's...  \n",
       "3037  [{'timestamp': '2024-07-22T19:16:52+02:00', 's...  \n",
       "3038  [{'timestamp': '2024-07-29T19:17:59+02:00', 's...  \n",
       "\n",
       "[3039 rows x 2 columns]"
      ]
     },
     "execution_count": 184,
     "metadata": {},
     "output_type": "execute_result"
    }
   ],
   "source": [
    "price_history = pd.read_csv('price_history.csv')\n",
    "price_history"
   ]
  },
  {
   "cell_type": "code",
   "execution_count": 200,
   "metadata": {},
   "outputs": [
    {
     "data": {
      "text/plain": [
       "0"
      ]
     },
     "execution_count": 200,
     "metadata": {},
     "output_type": "execute_result"
    }
   ],
   "source": [
    "price_history['appid'].duplicated().sum()"
   ]
  },
  {
   "cell_type": "code",
   "execution_count": 194,
   "metadata": {},
   "outputs": [],
   "source": [
    "game_info_anydeal = pd.read_csv('game_info_anydeal.csv')\n",
    "game_info_anydeal.drop_duplicates(inplace=True)"
   ]
  },
  {
   "cell_type": "code",
   "execution_count": 199,
   "metadata": {},
   "outputs": [
    {
     "data": {
      "text/plain": [
       "(2994, 18)"
      ]
     },
     "execution_count": 199,
     "metadata": {},
     "output_type": "execute_result"
    }
   ],
   "source": [
    "game_info_anydeal.shape"
   ]
  },
  {
   "cell_type": "code",
   "execution_count": 138,
   "metadata": {},
   "outputs": [
    {
     "ename": "KeyError",
     "evalue": "'id'",
     "output_type": "error",
     "traceback": [
      "\u001b[0;31m---------------------------------------------------------------------------\u001b[0m",
      "\u001b[0;31mKeyError\u001b[0m                                  Traceback (most recent call last)",
      "File \u001b[0;32m~/miniconda3/envs/509/lib/python3.10/site-packages/pandas/core/indexes/base.py:3791\u001b[0m, in \u001b[0;36mIndex.get_loc\u001b[0;34m(self, key)\u001b[0m\n\u001b[1;32m   3790\u001b[0m \u001b[38;5;28;01mtry\u001b[39;00m:\n\u001b[0;32m-> 3791\u001b[0m     \u001b[38;5;28;01mreturn\u001b[39;00m \u001b[38;5;28;43mself\u001b[39;49m\u001b[38;5;241;43m.\u001b[39;49m\u001b[43m_engine\u001b[49m\u001b[38;5;241;43m.\u001b[39;49m\u001b[43mget_loc\u001b[49m\u001b[43m(\u001b[49m\u001b[43mcasted_key\u001b[49m\u001b[43m)\u001b[49m\n\u001b[1;32m   3792\u001b[0m \u001b[38;5;28;01mexcept\u001b[39;00m \u001b[38;5;167;01mKeyError\u001b[39;00m \u001b[38;5;28;01mas\u001b[39;00m err:\n",
      "File \u001b[0;32mindex.pyx:152\u001b[0m, in \u001b[0;36mpandas._libs.index.IndexEngine.get_loc\u001b[0;34m()\u001b[0m\n",
      "File \u001b[0;32mindex.pyx:181\u001b[0m, in \u001b[0;36mpandas._libs.index.IndexEngine.get_loc\u001b[0;34m()\u001b[0m\n",
      "File \u001b[0;32mpandas/_libs/hashtable_class_helper.pxi:7080\u001b[0m, in \u001b[0;36mpandas._libs.hashtable.PyObjectHashTable.get_item\u001b[0;34m()\u001b[0m\n",
      "File \u001b[0;32mpandas/_libs/hashtable_class_helper.pxi:7088\u001b[0m, in \u001b[0;36mpandas._libs.hashtable.PyObjectHashTable.get_item\u001b[0;34m()\u001b[0m\n",
      "\u001b[0;31mKeyError\u001b[0m: 'id'",
      "\nThe above exception was the direct cause of the following exception:\n",
      "\u001b[0;31mKeyError\u001b[0m                                  Traceback (most recent call last)",
      "Cell \u001b[0;32mIn[138], line 1\u001b[0m\n\u001b[0;32m----> 1\u001b[0m \u001b[43mget_all_price_history\u001b[49m\u001b[43m(\u001b[49m\u001b[43mpd\u001b[49m\u001b[38;5;241;43m.\u001b[39;49m\u001b[43mread_csv\u001b[49m\u001b[43m(\u001b[49m\u001b[38;5;124;43m'\u001b[39;49m\u001b[38;5;124;43mapp_list.csv\u001b[39;49m\u001b[38;5;124;43m'\u001b[39;49m\u001b[43m)\u001b[49m\u001b[38;5;241;43m.\u001b[39;49m\u001b[43mhead\u001b[49m\u001b[43m(\u001b[49m\u001b[38;5;241;43m5\u001b[39;49m\u001b[43m)\u001b[49m\u001b[43m)\u001b[49m\n",
      "Cell \u001b[0;32mIn[71], line 16\u001b[0m, in \u001b[0;36mget_all_price_history\u001b[0;34m(games)\u001b[0m\n\u001b[1;32m     12\u001b[0m \u001b[38;5;250m\u001b[39m\u001b[38;5;124;03m\"\"\"\u001b[39;00m\n\u001b[1;32m     13\u001b[0m \u001b[38;5;124;03mGet the price history of all games in the list.\u001b[39;00m\n\u001b[1;32m     14\u001b[0m \u001b[38;5;124;03m\"\"\"\u001b[39;00m\n\u001b[1;32m     15\u001b[0m price_history \u001b[38;5;241m=\u001b[39m {}\n\u001b[0;32m---> 16\u001b[0m \u001b[38;5;28;01mfor\u001b[39;00m \u001b[38;5;28mid\u001b[39m \u001b[38;5;129;01min\u001b[39;00m \u001b[43mgames\u001b[49m\u001b[43m[\u001b[49m\u001b[38;5;124;43m'\u001b[39;49m\u001b[38;5;124;43mid\u001b[39;49m\u001b[38;5;124;43m'\u001b[39;49m\u001b[43m]\u001b[49m:\n\u001b[1;32m     17\u001b[0m     price_history[\u001b[38;5;28mid\u001b[39m] \u001b[38;5;241m=\u001b[39m get_price_history(\u001b[38;5;28mid\u001b[39m)\n\u001b[1;32m     18\u001b[0m     time\u001b[38;5;241m.\u001b[39msleep(\u001b[38;5;241m2\u001b[39m)\n",
      "File \u001b[0;32m~/miniconda3/envs/509/lib/python3.10/site-packages/pandas/core/frame.py:3893\u001b[0m, in \u001b[0;36mDataFrame.__getitem__\u001b[0;34m(self, key)\u001b[0m\n\u001b[1;32m   3891\u001b[0m \u001b[38;5;28;01mif\u001b[39;00m \u001b[38;5;28mself\u001b[39m\u001b[38;5;241m.\u001b[39mcolumns\u001b[38;5;241m.\u001b[39mnlevels \u001b[38;5;241m>\u001b[39m \u001b[38;5;241m1\u001b[39m:\n\u001b[1;32m   3892\u001b[0m     \u001b[38;5;28;01mreturn\u001b[39;00m \u001b[38;5;28mself\u001b[39m\u001b[38;5;241m.\u001b[39m_getitem_multilevel(key)\n\u001b[0;32m-> 3893\u001b[0m indexer \u001b[38;5;241m=\u001b[39m \u001b[38;5;28;43mself\u001b[39;49m\u001b[38;5;241;43m.\u001b[39;49m\u001b[43mcolumns\u001b[49m\u001b[38;5;241;43m.\u001b[39;49m\u001b[43mget_loc\u001b[49m\u001b[43m(\u001b[49m\u001b[43mkey\u001b[49m\u001b[43m)\u001b[49m\n\u001b[1;32m   3894\u001b[0m \u001b[38;5;28;01mif\u001b[39;00m is_integer(indexer):\n\u001b[1;32m   3895\u001b[0m     indexer \u001b[38;5;241m=\u001b[39m [indexer]\n",
      "File \u001b[0;32m~/miniconda3/envs/509/lib/python3.10/site-packages/pandas/core/indexes/base.py:3798\u001b[0m, in \u001b[0;36mIndex.get_loc\u001b[0;34m(self, key)\u001b[0m\n\u001b[1;32m   3793\u001b[0m     \u001b[38;5;28;01mif\u001b[39;00m \u001b[38;5;28misinstance\u001b[39m(casted_key, \u001b[38;5;28mslice\u001b[39m) \u001b[38;5;129;01mor\u001b[39;00m (\n\u001b[1;32m   3794\u001b[0m         \u001b[38;5;28misinstance\u001b[39m(casted_key, abc\u001b[38;5;241m.\u001b[39mIterable)\n\u001b[1;32m   3795\u001b[0m         \u001b[38;5;129;01mand\u001b[39;00m \u001b[38;5;28many\u001b[39m(\u001b[38;5;28misinstance\u001b[39m(x, \u001b[38;5;28mslice\u001b[39m) \u001b[38;5;28;01mfor\u001b[39;00m x \u001b[38;5;129;01min\u001b[39;00m casted_key)\n\u001b[1;32m   3796\u001b[0m     ):\n\u001b[1;32m   3797\u001b[0m         \u001b[38;5;28;01mraise\u001b[39;00m InvalidIndexError(key)\n\u001b[0;32m-> 3798\u001b[0m     \u001b[38;5;28;01mraise\u001b[39;00m \u001b[38;5;167;01mKeyError\u001b[39;00m(key) \u001b[38;5;28;01mfrom\u001b[39;00m \u001b[38;5;21;01merr\u001b[39;00m\n\u001b[1;32m   3799\u001b[0m \u001b[38;5;28;01mexcept\u001b[39;00m \u001b[38;5;167;01mTypeError\u001b[39;00m:\n\u001b[1;32m   3800\u001b[0m     \u001b[38;5;66;03m# If we have a listlike key, _check_indexing_error will raise\u001b[39;00m\n\u001b[1;32m   3801\u001b[0m     \u001b[38;5;66;03m#  InvalidIndexError. Otherwise we fall through and re-raise\u001b[39;00m\n\u001b[1;32m   3802\u001b[0m     \u001b[38;5;66;03m#  the TypeError.\u001b[39;00m\n\u001b[1;32m   3803\u001b[0m     \u001b[38;5;28mself\u001b[39m\u001b[38;5;241m.\u001b[39m_check_indexing_error(key)\n",
      "\u001b[0;31mKeyError\u001b[0m: 'id'"
     ]
    }
   ],
   "source": [
    "get_all_price_history(pd.read_csv('app_list.csv').head(5))"
   ]
  },
  {
   "cell_type": "code",
   "execution_count": 136,
   "metadata": {},
   "outputs": [
    {
     "data": {
      "text/html": [
       "<div>\n",
       "<style scoped>\n",
       "    .dataframe tbody tr th:only-of-type {\n",
       "        vertical-align: middle;\n",
       "    }\n",
       "\n",
       "    .dataframe tbody tr th {\n",
       "        vertical-align: top;\n",
       "    }\n",
       "\n",
       "    .dataframe thead th {\n",
       "        text-align: right;\n",
       "    }\n",
       "</style>\n",
       "<table border=\"1\" class=\"dataframe\">\n",
       "  <thead>\n",
       "    <tr style=\"text-align: right;\">\n",
       "      <th></th>\n",
       "      <th>timestamp</th>\n",
       "      <th>shop</th>\n",
       "      <th>deal</th>\n",
       "    </tr>\n",
       "  </thead>\n",
       "  <tbody>\n",
       "    <tr>\n",
       "      <th>0</th>\n",
       "      <td>2024-07-22T19:16:37+02:00</td>\n",
       "      <td>{'id': 61, 'name': 'Steam'}</td>\n",
       "      <td>{'price': {'amount': 4.99, 'amountInt': 499, '...</td>\n",
       "    </tr>\n",
       "    <tr>\n",
       "      <th>1</th>\n",
       "      <td>2024-06-27T19:23:58+02:00</td>\n",
       "      <td>{'id': 61, 'name': 'Steam'}</td>\n",
       "      <td>{'price': {'amount': 1.74, 'amountInt': 174, '...</td>\n",
       "    </tr>\n",
       "    <tr>\n",
       "      <th>2</th>\n",
       "      <td>2024-04-22T19:16:52+02:00</td>\n",
       "      <td>{'id': 61, 'name': 'Steam'}</td>\n",
       "      <td>{'price': {'amount': 4.99, 'amountInt': 499, '...</td>\n",
       "    </tr>\n",
       "    <tr>\n",
       "      <th>3</th>\n",
       "      <td>2024-04-15T19:21:23+02:00</td>\n",
       "      <td>{'id': 61, 'name': 'Steam'}</td>\n",
       "      <td>{'price': {'amount': 1.74, 'amountInt': 174, '...</td>\n",
       "    </tr>\n",
       "    <tr>\n",
       "      <th>4</th>\n",
       "      <td>2024-03-21T18:18:27+01:00</td>\n",
       "      <td>{'id': 61, 'name': 'Steam'}</td>\n",
       "      <td>{'price': {'amount': 4.99, 'amountInt': 499, '...</td>\n",
       "    </tr>\n",
       "    <tr>\n",
       "      <th>...</th>\n",
       "      <td>...</td>\n",
       "      <td>...</td>\n",
       "      <td>...</td>\n",
       "    </tr>\n",
       "    <tr>\n",
       "      <th>146</th>\n",
       "      <td>2013-04-04T19:06:09+02:00</td>\n",
       "      <td>{'id': 61, 'name': 'Steam'}</td>\n",
       "      <td>{'price': {'amount': 5.24, 'amountInt': 524, '...</td>\n",
       "    </tr>\n",
       "    <tr>\n",
       "      <th>147</th>\n",
       "      <td>2013-02-14T20:06:07+01:00</td>\n",
       "      <td>{'id': 61, 'name': 'Steam'}</td>\n",
       "      <td>{'price': {'amount': 3.4, 'amountInt': 340, 'c...</td>\n",
       "    </tr>\n",
       "    <tr>\n",
       "      <th>148</th>\n",
       "      <td>2012-12-20T21:25:27+01:00</td>\n",
       "      <td>{'id': 61, 'name': 'Steam'}</td>\n",
       "      <td>{'price': {'amount': 4.99, 'amountInt': 499, '...</td>\n",
       "    </tr>\n",
       "    <tr>\n",
       "      <th>149</th>\n",
       "      <td>2012-12-13T19:26:03+01:00</td>\n",
       "      <td>{'id': 61, 'name': 'Steam'}</td>\n",
       "      <td>{'price': {'amount': 8.74, 'amountInt': 874, '...</td>\n",
       "    </tr>\n",
       "    <tr>\n",
       "      <th>150</th>\n",
       "      <td>2012-11-25T23:48:14+01:00</td>\n",
       "      <td>{'id': 61, 'name': 'Steam'}</td>\n",
       "      <td>{'price': {'amount': 4.99, 'amountInt': 499, '...</td>\n",
       "    </tr>\n",
       "  </tbody>\n",
       "</table>\n",
       "<p>151 rows × 3 columns</p>\n",
       "</div>"
      ],
      "text/plain": [
       "                     timestamp                         shop  \\\n",
       "0    2024-07-22T19:16:37+02:00  {'id': 61, 'name': 'Steam'}   \n",
       "1    2024-06-27T19:23:58+02:00  {'id': 61, 'name': 'Steam'}   \n",
       "2    2024-04-22T19:16:52+02:00  {'id': 61, 'name': 'Steam'}   \n",
       "3    2024-04-15T19:21:23+02:00  {'id': 61, 'name': 'Steam'}   \n",
       "4    2024-03-21T18:18:27+01:00  {'id': 61, 'name': 'Steam'}   \n",
       "..                         ...                          ...   \n",
       "146  2013-04-04T19:06:09+02:00  {'id': 61, 'name': 'Steam'}   \n",
       "147  2013-02-14T20:06:07+01:00  {'id': 61, 'name': 'Steam'}   \n",
       "148  2012-12-20T21:25:27+01:00  {'id': 61, 'name': 'Steam'}   \n",
       "149  2012-12-13T19:26:03+01:00  {'id': 61, 'name': 'Steam'}   \n",
       "150  2012-11-25T23:48:14+01:00  {'id': 61, 'name': 'Steam'}   \n",
       "\n",
       "                                                  deal  \n",
       "0    {'price': {'amount': 4.99, 'amountInt': 499, '...  \n",
       "1    {'price': {'amount': 1.74, 'amountInt': 174, '...  \n",
       "2    {'price': {'amount': 4.99, 'amountInt': 499, '...  \n",
       "3    {'price': {'amount': 1.74, 'amountInt': 174, '...  \n",
       "4    {'price': {'amount': 4.99, 'amountInt': 499, '...  \n",
       "..                                                 ...  \n",
       "146  {'price': {'amount': 5.24, 'amountInt': 524, '...  \n",
       "147  {'price': {'amount': 3.4, 'amountInt': 340, 'c...  \n",
       "148  {'price': {'amount': 4.99, 'amountInt': 499, '...  \n",
       "149  {'price': {'amount': 8.74, 'amountInt': 874, '...  \n",
       "150  {'price': {'amount': 4.99, 'amountInt': 499, '...  \n",
       "\n",
       "[151 rows x 3 columns]"
      ]
     },
     "execution_count": 136,
     "metadata": {},
     "output_type": "execute_result"
    }
   ],
   "source": [
    "\n",
    "price_items = {\n",
    "    'first_available_price': '',\n",
    "    'first_available_date': '',\n",
    "    'historical_low': '',\n",
    "    'historical_low_date': '',\n",
    "    'historical_high_discount': '',\n",
    "    'historical_high_discount_date': '',\n",
    "    'first_discount': '',\n",
    "    'first_discount_date': '',\n",
    "    'last_discount': '',\n",
    "    'last_discount_date': '',\n",
    "    'average_duration_between_discounts_12months': '',\n",
    "    'average_duration_of_discounts_12months': '',\n",
    "    'avg_price': '',\n",
    "    'avg_discount': '',\n",
    "    # price decay is the average second derivative of a moving average of the price\n",
    "    # we take 12 months of data, and calculate the moving average of the price\n",
    "    # then we calculate the second derivative of the moving average\n",
    "    # finally we average the second derivative over the 12 months\n",
    "    'price_decay_rate': '', \n",
    "\n",
    "    # testing modules\n",
    "}\n",
    "\n",
    "# get price history for a game\n",
    "anydeal_id = '018d937e-f4d4-72e7-8573-f89aa24ca824'\n",
    "history = pd.DataFrame.from_dict(get_price_history(anydeal_id))\n",
    "history"
   ]
  },
  {
   "cell_type": "code",
   "execution_count": null,
   "metadata": {},
   "outputs": [],
   "source": [
    "\n",
    "# remove shop info, as we only look at steam\n",
    "history.drop(columns=['shop'], inplace=True)\n",
    "\n",
    "# extract price, regular price, discount\n",
    "history['price'] = history['deal'].apply(lambda x: x['price']['amount'])\n",
    "history['price'] = history['price'].astype(float)\n",
    "history['regular'] = history['deal'].apply(lambda x: x['regular']['amount'])\n",
    "history['regular'] = history['regular'].astype(float)\n",
    "history['discount'] = history['deal'].apply(lambda x: x['cut'])\n",
    "history['discount'] = history['discount'].astype(int)\n",
    "\n",
    "# drop deal column\n",
    "history.drop(columns=['deal'], inplace=True)\n"
   ]
  },
  {
   "cell_type": "code",
   "execution_count": 82,
   "metadata": {},
   "outputs": [],
   "source": []
  },
  {
   "cell_type": "code",
   "execution_count": 83,
   "metadata": {},
   "outputs": [
    {
     "data": {
      "text/html": [
       "<div>\n",
       "<style scoped>\n",
       "    .dataframe tbody tr th:only-of-type {\n",
       "        vertical-align: middle;\n",
       "    }\n",
       "\n",
       "    .dataframe tbody tr th {\n",
       "        vertical-align: top;\n",
       "    }\n",
       "\n",
       "    .dataframe thead th {\n",
       "        text-align: right;\n",
       "    }\n",
       "</style>\n",
       "<table border=\"1\" class=\"dataframe\">\n",
       "  <thead>\n",
       "    <tr style=\"text-align: right;\">\n",
       "      <th></th>\n",
       "      <th>timestamp</th>\n",
       "      <th>price</th>\n",
       "      <th>regular</th>\n",
       "      <th>discount</th>\n",
       "    </tr>\n",
       "  </thead>\n",
       "  <tbody>\n",
       "    <tr>\n",
       "      <th>0</th>\n",
       "      <td>2024-07-22T19:16:37+02:00</td>\n",
       "      <td>4.99</td>\n",
       "      <td>4.99</td>\n",
       "      <td>0</td>\n",
       "    </tr>\n",
       "    <tr>\n",
       "      <th>1</th>\n",
       "      <td>2024-06-27T19:23:58+02:00</td>\n",
       "      <td>1.74</td>\n",
       "      <td>4.99</td>\n",
       "      <td>65</td>\n",
       "    </tr>\n",
       "    <tr>\n",
       "      <th>2</th>\n",
       "      <td>2024-04-22T19:16:52+02:00</td>\n",
       "      <td>4.99</td>\n",
       "      <td>4.99</td>\n",
       "      <td>0</td>\n",
       "    </tr>\n",
       "    <tr>\n",
       "      <th>3</th>\n",
       "      <td>2024-04-15T19:21:23+02:00</td>\n",
       "      <td>1.74</td>\n",
       "      <td>4.99</td>\n",
       "      <td>65</td>\n",
       "    </tr>\n",
       "    <tr>\n",
       "      <th>4</th>\n",
       "      <td>2024-03-21T18:18:27+01:00</td>\n",
       "      <td>4.99</td>\n",
       "      <td>4.99</td>\n",
       "      <td>0</td>\n",
       "    </tr>\n",
       "    <tr>\n",
       "      <th>...</th>\n",
       "      <td>...</td>\n",
       "      <td>...</td>\n",
       "      <td>...</td>\n",
       "      <td>...</td>\n",
       "    </tr>\n",
       "    <tr>\n",
       "      <th>146</th>\n",
       "      <td>2013-04-04T19:06:09+02:00</td>\n",
       "      <td>5.24</td>\n",
       "      <td>34.99</td>\n",
       "      <td>85</td>\n",
       "    </tr>\n",
       "    <tr>\n",
       "      <th>147</th>\n",
       "      <td>2013-02-14T20:06:07+01:00</td>\n",
       "      <td>3.40</td>\n",
       "      <td>9.99</td>\n",
       "      <td>66</td>\n",
       "    </tr>\n",
       "    <tr>\n",
       "      <th>148</th>\n",
       "      <td>2012-12-20T21:25:27+01:00</td>\n",
       "      <td>4.99</td>\n",
       "      <td>9.99</td>\n",
       "      <td>50</td>\n",
       "    </tr>\n",
       "    <tr>\n",
       "      <th>149</th>\n",
       "      <td>2012-12-13T19:26:03+01:00</td>\n",
       "      <td>8.74</td>\n",
       "      <td>34.99</td>\n",
       "      <td>75</td>\n",
       "    </tr>\n",
       "    <tr>\n",
       "      <th>150</th>\n",
       "      <td>2012-11-25T23:48:14+01:00</td>\n",
       "      <td>4.99</td>\n",
       "      <td>9.99</td>\n",
       "      <td>50</td>\n",
       "    </tr>\n",
       "  </tbody>\n",
       "</table>\n",
       "<p>151 rows × 4 columns</p>\n",
       "</div>"
      ],
      "text/plain": [
       "                     timestamp  price  regular  discount\n",
       "0    2024-07-22T19:16:37+02:00   4.99     4.99         0\n",
       "1    2024-06-27T19:23:58+02:00   1.74     4.99        65\n",
       "2    2024-04-22T19:16:52+02:00   4.99     4.99         0\n",
       "3    2024-04-15T19:21:23+02:00   1.74     4.99        65\n",
       "4    2024-03-21T18:18:27+01:00   4.99     4.99         0\n",
       "..                         ...    ...      ...       ...\n",
       "146  2013-04-04T19:06:09+02:00   5.24    34.99        85\n",
       "147  2013-02-14T20:06:07+01:00   3.40     9.99        66\n",
       "148  2012-12-20T21:25:27+01:00   4.99     9.99        50\n",
       "149  2012-12-13T19:26:03+01:00   8.74    34.99        75\n",
       "150  2012-11-25T23:48:14+01:00   4.99     9.99        50\n",
       "\n",
       "[151 rows x 4 columns]"
      ]
     },
     "execution_count": 83,
     "metadata": {},
     "output_type": "execute_result"
    }
   ],
   "source": [
    "history"
   ]
  },
  {
   "cell_type": "code",
   "execution_count": null,
   "metadata": {},
   "outputs": [],
   "source": [
    "def historical_price_transformer(anydeal_id):\n",
    "    history = get_price_history(anydeal_id)"
   ]
  }
 ],
 "metadata": {
  "kernelspec": {
   "display_name": "509",
   "language": "python",
   "name": "python3"
  },
  "language_info": {
   "codemirror_mode": {
    "name": "ipython",
    "version": 3
   },
   "file_extension": ".py",
   "mimetype": "text/x-python",
   "name": "python",
   "nbconvert_exporter": "python",
   "pygments_lexer": "ipython3",
   "version": "3.10.0"
  }
 },
 "nbformat": 4,
 "nbformat_minor": 2
}
